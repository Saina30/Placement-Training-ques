{
 "cells": [
  {
   "cell_type": "code",
   "execution_count": 3,
   "id": "39c069fd",
   "metadata": {},
   "outputs": [
    {
     "name": "stdout",
     "output_type": "stream",
     "text": [
      "The smallest element is: 0\n",
      "The smallest element is: 5\n"
     ]
    }
   ],
   "source": [
    "def find_smallest(arr):\n",
    "    if len(arr) == 0:\n",
    "        return None  \n",
    "    smallest = arr[0]\n",
    "    for num in arr:\n",
    "        if num < smallest:\n",
    "            smallest = num\n",
    "    return smallest\n",
    "\n",
    "\n",
    "arr_1= [2, 5, 1, 3, 0]\n",
    "arr_2=[8,10,5,7,9]\n",
    "\n",
    "print(\"The smallest element is:\", find_smallest(arr_1))\n",
    "print(\"The smallest element is:\", find_smallest(arr_2))\n",
    "\n"
   ]
  },
  {
   "cell_type": "code",
   "execution_count": null,
   "id": "e3b116b0",
   "metadata": {},
   "outputs": [],
   "source": []
  }
 ],
 "metadata": {
  "kernelspec": {
   "display_name": "Python 3 (ipykernel)",
   "language": "python",
   "name": "python3"
  },
  "language_info": {
   "codemirror_mode": {
    "name": "ipython",
    "version": 3
   },
   "file_extension": ".py",
   "mimetype": "text/x-python",
   "name": "python",
   "nbconvert_exporter": "python",
   "pygments_lexer": "ipython3",
   "version": "3.9.13"
  }
 },
 "nbformat": 4,
 "nbformat_minor": 5
}
